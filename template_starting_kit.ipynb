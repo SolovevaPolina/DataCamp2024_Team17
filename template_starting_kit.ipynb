from sklearn.pipeline import make_pipeline
from sklearn.impute import SimpleImputer
from sklearn.preprocessing import StandardScaler
from sklearn.ensemble import RandomForestRegressor
from sklearn.metrics import mean_squared_error
import numpy as np

from sklearn import set_config
set_config(transform_output="pandas")

# Load data
X_df, y = problem.get_train_data()
X_df_test, y_test = problem.get_test_data()

# Define the pipeline
pipe = make_pipeline(
    SimpleImputer(strategy='mean'),
    StandardScaler(),
    RandomForestRegressor(
        n_estimators=100,
        max_depth=None,
        random_state=42
    )
)

def get_estimator():
    return pipe

# Function to calculate out-of-sample RMSE
def calculate_out_of_sample_rmse(X, y, n_repeats=25):
    mse_list = []

    for _ in range(n_repeats):
        # Step 1: Randomly split the data into training and validation sets
        indices = np.random.permutation(len(X))
        split_idx = int(2/3 * len(X))
        train_idx, val_idx = indices[:split_idx], indices[split_idx:]

        X_train, X_val = X.iloc[train_idx], X.iloc[val_idx]
        y_train, y_val = y.iloc[train_idx], y.iloc[val_idx]

        # Step 2: Fit the model
        pipe.fit(X_train, y_train)

        # Step 3: Predict on validation data
        y_pred = pipe.predict(X_val)

        # Step 4: Calculate out-of-sample MSE
        mse = mean_squared_error(y_val, y_pred)
        mse_list.append(mse)

    # Step 6: Calculate final out-of-sample RMSE
    out_of_sample_rmse = np.sqrt(np.mean(mse_list))
    return out_of_sample_rmse

# Calculate out-of-sample RMSE
out_of_sample_rmse = calculate_out_of_sample_rmse(X_df, y)
print(f"Out-of-sample RMSE: {out_of_sample_rmse}")

# Fit the pipeline on the full training data and evaluate on test data
pipe.fit(X_df, y)
print(f"Score on train: {mean_absolute_error(pipe.predict(X_df), y)}")
print(f"Score on test: {mean_absolute_error(pipe.predict(X_df_test), y_test)}")
